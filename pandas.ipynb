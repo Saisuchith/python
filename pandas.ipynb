{
 "cells": [
  {
   "cell_type": "code",
   "execution_count": 32,
   "metadata": {},
   "outputs": [
    {
     "name": "stdout",
     "output_type": "stream",
     "text": [
      "   Bounce Rate  Day  Visitors\n",
      "0           65    1        43\n",
      "1           67    2        34\n",
      "2           78    3        65\n",
      "3           65    4        56\n",
      "4           45    5        29\n"
     ]
    }
   ],
   "source": [
    "import pandas as pd\n",
    "\n",
    "web_stats = {'Day':[1,2,3,4,5,6],\n",
    "             'Visitors':[43,34,65,56,29,76],\n",
    "             'Bounce Rate':[65,67,78,65,45,52]}\n",
    "\n",
    "df = pd.DataFrame(web_stats)\n",
    "print(df.head())\n"
   ]
  },
  {
   "cell_type": "code",
   "execution_count": 10,
   "metadata": {},
   "outputs": [
    {
     "name": "stdout",
     "output_type": "stream",
     "text": [
      "   Bounce Rate  Day  Visitors\n",
      "1           67    2        34\n",
      "2           78    3        65\n",
      "3           65    4        56\n",
      "4           45    5        29\n",
      "5           52    6        76\n"
     ]
    }
   ],
   "source": [
    "print(df.tail())"
   ]
  },
  {
   "cell_type": "code",
   "execution_count": 14,
   "metadata": {},
   "outputs": [
    {
     "name": "stdout",
     "output_type": "stream",
     "text": [
      "   Bounce Rate  Day  Visitors\n",
      "4           45    5        29\n",
      "5           52    6        76\n"
     ]
    }
   ],
   "source": [
    "print(df.tail(2))"
   ]
  },
  {
   "cell_type": "code",
   "execution_count": 33,
   "metadata": {},
   "outputs": [
    {
     "name": "stdout",
     "output_type": "stream",
     "text": [
      "   Bounce Rate  Day  Visitors\n",
      "0           65    1        43\n",
      "1           67    2        34\n",
      "2           78    3        65\n",
      "3           65    4        56\n",
      "4           45    5        29\n",
      "5           52    6        76\n"
     ]
    }
   ],
   "source": [
    "#df.set_index('Day', inplace=True)\n",
    "df1 = df.set_index('Day')\n",
    "print(df)"
   ]
  },
  {
   "cell_type": "code",
   "execution_count": 34,
   "metadata": {},
   "outputs": [
    {
     "name": "stdout",
     "output_type": "stream",
     "text": [
      "0    43\n",
      "1    34\n",
      "2    65\n",
      "3    56\n",
      "4    29\n",
      "5    76\n",
      "Name: Visitors, dtype: int64\n"
     ]
    },
    {
     "data": {
      "image/png": "[encoded data removed]",
      "text/plain": [
       "<matplotlib.figure.Figure at 0x7fa0a9eeff98>"
      ]
     },
     "metadata": {},
     "output_type": "display_data"
    }
   ],
   "source": [
    "import matplotlib.pyplot as plt\n",
    "print(df['Visitors'])\n",
    "df['Visitors'].plot()\n",
    "plt.show()"
   ]
  },
  {
   "cell_type": "code",
   "execution_count": 40,
   "metadata": {},
   "outputs": [
    {
     "data": {
      "image/png": "[encoded data removed]",
      "text/plain": [
       "<matplotlib.figure.Figure at 0x7fa0a9dc0668>"
      ]
     },
     "metadata": {},
     "output_type": "display_data"
    }
   ],
   "source": [
    "df.plot()\n",
    "plt.show()"
   ]
  },
  {
   "cell_type": "code",
   "execution_count": 42,
   "metadata": {},
   "outputs": [
    {
     "name": "stdout",
     "output_type": "stream",
     "text": [
      "   Visitors  Bounce Rate\n",
      "0        43           65\n",
      "1        34           67\n",
      "2        65           78\n",
      "3        56           65\n",
      "4        29           45\n",
      "5        76           52\n"
     ]
    }
   ],
   "source": [
    "print(df[['Visitors','Bounce Rate']])"
   ]
  },
  {
   "cell_type": "markdown",
   "metadata": {},
   "source": [
    "<hr style=\"height:4px\">"
   ]
  },
  {
   "cell_type": "code",
   "execution_count": 11,
   "metadata": {},
   "outputs": [
    {
     "name": "stdout",
     "output_type": "stream",
     "text": [
      "            Value\n",
      "Date             \n",
      "2017-06-30  1.388\n",
      "2017-05-31  1.402\n",
      "2017-04-30  1.412\n",
      "2017-03-31  1.414\n",
      "2017-02-28  1.414\n",
      "Date\n",
      "2017-06-30    1.388\n",
      "2017-05-31    1.402\n",
      "2017-04-30    1.412\n",
      "2017-03-31    1.414\n",
      "2017-02-28    1.414\n",
      "2017-01-31    1.414\n",
      "2016-12-31    1.424\n",
      "2016-11-30    1.434\n",
      "2016-10-31    1.442\n",
      "2016-09-30    1.456\n",
      "2016-08-31    1.476\n",
      "2016-07-31    1.496\n",
      "2016-06-30    1.508\n",
      "2016-05-31    1.514\n",
      "2016-04-30    1.510\n",
      "2016-03-31    1.532\n",
      "2016-02-29    1.552\n",
      "2016-01-31    1.580\n",
      "2015-12-31    1.580\n",
      "2015-11-30    1.580\n",
      "2015-10-31    1.576\n",
      "2015-09-30    1.574\n",
      "2015-08-31    1.566\n",
      "2015-07-31    1.550\n",
      "2015-06-30    1.534\n",
      "2015-05-31    1.526\n",
      "2015-04-30    1.524\n",
      "2015-03-31    1.520\n",
      "2015-02-28    1.514\n",
      "2015-01-31    1.506\n",
      "              ...  \n",
      "2013-04-30    1.302\n",
      "2013-03-31    1.288\n",
      "2013-02-28    1.270\n",
      "2013-01-31    1.250\n",
      "2012-12-31    1.232\n",
      "2012-11-30    1.216\n",
      "2012-10-31    1.202\n",
      "2012-09-30    1.198\n",
      "2012-08-31    1.196\n",
      "2012-07-31    1.198\n",
      "2012-06-30    1.200\n",
      "2012-05-31    1.200\n",
      "2012-04-30    1.200\n",
      "2012-03-31    1.194\n",
      "2012-02-29    1.190\n",
      "2012-01-31    1.184\n",
      "2011-12-31    1.186\n",
      "2011-11-30    1.194\n",
      "2011-10-31    1.200\n",
      "2011-09-30    1.208\n",
      "2011-08-31    1.212\n",
      "2011-07-31    1.212\n",
      "2011-06-30    1.210\n",
      "2011-05-31    1.210\n",
      "2011-04-30    1.206\n",
      "2011-03-31    1.200\n",
      "2011-02-28    1.188\n",
      "2011-01-31    1.180\n",
      "2010-12-31    1.172\n",
      "2010-11-30    1.168\n",
      "Name: Value, Length: 80, dtype: float64\n",
      "____________________________________\n",
      "   2017-06-30  1.3880000000000001\n",
      "0  2017-05-31               1.402\n",
      "1  2017-04-30               1.412\n",
      "2  2017-03-31               1.414\n",
      "3  2017-02-28               1.414\n",
      "4  2017-01-31               1.414\n"
     ]
    }
   ],
   "source": [
    "import pandas as pd\n",
    "\n",
    "df = pd.read_csv('ZILLOW-Z77006_ZRIFAH.csv',index_col=0)\n",
    "print(df.head())\n",
    "# df.set_index('Date',)\n",
    "df['Value'].to_csv('newcsv3.csv')\n",
    "print(df['Value'])\n",
    "print(\"____________________________________\")\n",
    "df = pd.read_csv('newcsv3.csv')\n",
    "print(df.head())"
   ]
  }
 ],
 "metadata": {
  "kernelspec": {
   "display_name": "Python 3",
   "language": "python",
   "name": "python3"
  },
  "language_info": {
   "codemirror_mode": {
    "name": "ipython",
    "version": 3
   },
   "file_extension": ".py",
   "mimetype": "text/x-python",
   "name": "python",
   "nbconvert_exporter": "python",
   "pygments_lexer": "ipython3",
   "version": "3.5.2"
  }
 },
 "nbformat": 4,
 "nbformat_minor": 2
}
